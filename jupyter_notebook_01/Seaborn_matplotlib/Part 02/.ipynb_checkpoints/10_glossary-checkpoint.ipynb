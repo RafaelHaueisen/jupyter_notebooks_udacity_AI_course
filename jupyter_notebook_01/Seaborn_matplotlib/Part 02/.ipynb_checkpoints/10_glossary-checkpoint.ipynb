{
 "cells": [
  {
   "cell_type": "markdown",
   "id": "2ba6b651-ae8a-4491-a770-0498e6971503",
   "metadata": {},
   "source": [
    "# Univariate Visualization Functions\n",
    "\n",
    "| Plot type     | matplotlib.pyplot function | seaborn function                                   |\n",
    "|---------------|---------------------------|----------------------------------------------------|\n",
    "| Bar Chart     | ---                       | [countplot()](https://seaborn.pydata.org/generated/seaborn.countplot.html)<br>[barplot()](https://seaborn.pydata.org/generated/seaborn.barplot.html) |\n",
    "| Pie Chart     | [pie()](https://matplotlib.org/api/_as_gen/matplotlib.pyplot.pie.html) | ---                                                |\n",
    "| Histogram     | [hist()](https://matplotlib.org/3.3.1/api/_as_gen/matplotlib.pyplot.hist.html) | [distplot()](https://seaborn.pydata.org/generated/seaborn.distplot.html)<br>[displot()](https://seaborn.pydata.org/generated/seaborn.displot.html#seaborn.displot)<br>[histplot()](https://seaborn.pydata.org/generated/seaborn.histplot.html#seaborn.histplot) |\n"
   ]
  },
  {
   "cell_type": "markdown",
   "id": "eb8cb8c9-e0fd-4700-9c04-a5b06b65fcf1",
   "metadata": {},
   "source": [
    "# Bivariate Visualization Functions\n",
    "\n",
    "| Plot type             | matplotlib.pyplot function                          | seaborn function                                   |\n",
    "|-----------------------|----------------------------------------------------|----------------------------------------------------|\n",
    "| Scatterplot           | [scatter()](https://matplotlib.org/api/_as_gen/matplotlib.pyplot.scatter.html) | [regplot()](https://seaborn.pydata.org/generated/seaborn.regplot.html) |\n",
    "| Heat Map              | [hist2d()](https://matplotlib.org/api/_as_gen/matplotlib.pyplot.hist2d.html) | [heatmap()](https://seaborn.pydata.org/generated/seaborn.heatmap.html) |\n",
    "| Violin Plot           | ---                                                | [violinplot()](https://seaborn.pydata.org/generated/seaborn.violinplot.html) |\n",
    "| Box Plot              | ---                                                | [boxplot()](https://seaborn.pydata.org/generated/seaborn.boxplot.html) |\n",
    "| Clustered Bar Chart   | ---                                                | [countplot()](https://seaborn.pydata.org/generated/seaborn.countplot.html)<br>[heatmap()](https://seaborn.pydata.org/generated/seaborn.heatmap.html) |\n",
    "| Faceting              | ---                                                | [FacetGrid()](https://seaborn.pydata.org/generated/seaborn.FacetGrid.html) |\n",
    "| Bar Plot              | ---                                                | [barplot()](https://seaborn.pydata.org/generated/seaborn.barplot.html) |\n",
    "| Point Plot            | ---                                                | [pointplot()](https://seaborn.pydata.org/generated/seaborn.pointplot.html) |\n",
    "| Line Plot             | [errorbar()](https://matplotlib.org/api/_as_gen/matplotlib.pyplot.errorbar.html) | ---                                                |\n"
   ]
  },
  {
   "cell_type": "markdown",
   "id": "6be82eb0-0607-4ffa-bfb6-3932e85e43f5",
   "metadata": {},
   "source": [
    "# Comprehensive List of Plots\n",
    "\n",
    "See the comprehensive list of visualization functions.\n",
    "\n",
    "1. [matplotlob.pyplot functions](https://matplotlib.org/api/_as_gen/matplotlib.pyplot.html)\n",
    "2. [seaborn functions](https://seaborn.pydata.org/api.html)"
   ]
  },
  {
   "cell_type": "code",
   "execution_count": null,
   "id": "9290a595-c4db-4687-9ddf-224dfdc79d4f",
   "metadata": {},
   "outputs": [],
   "source": []
  }
 ],
 "metadata": {
  "kernelspec": {
   "display_name": "Python [conda env:base] *",
   "language": "python",
   "name": "conda-base-py"
  },
  "language_info": {
   "codemirror_mode": {
    "name": "ipython",
    "version": 3
   },
   "file_extension": ".py",
   "mimetype": "text/x-python",
   "name": "python",
   "nbconvert_exporter": "python",
   "pygments_lexer": "ipython3",
   "version": "3.12.8"
  }
 },
 "nbformat": 4,
 "nbformat_minor": 5
}
