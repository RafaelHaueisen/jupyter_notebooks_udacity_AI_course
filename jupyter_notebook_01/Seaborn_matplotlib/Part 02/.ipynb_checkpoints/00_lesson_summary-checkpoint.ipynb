{
 "cells": [
  {
   "cell_type": "markdown",
   "metadata": {},
   "source": [
    "# Bivariate Exploration of Data\n",
    "## Screencast Scripts\n",
    "\n",
    "(Make sure that you've downloaded `fuel_econ.csv` to be able to run the cells\n",
    "in this notebook!)"
   ]
  },
  {
   "cell_type": "code",
   "execution_count": null,
   "metadata": {},
   "outputs": [],
   "source": [
    "# prerequisite package imports\n",
    "import numpy as np\n",
    "import pandas as pd\n",
    "import matplotlib.pyplot as plt\n",
    "import seaborn as sb\n",
    "\n",
    "%matplotlib inline"
   ]
  },
  {
   "cell_type": "code",
   "execution_count": null,
   "metadata": {},
   "outputs": [],
   "source": [
    "fuel_econ = pd.read_csv('fuel_econ.csv')\n",
    "print(fuel_econ.shape)\n",
    "fuel_econ.head(6)"
   ]
  },
  {
   "cell_type": "markdown",
   "metadata": {},
   "source": [
    "> In this lesson, we will be exploring bivariate visualizations\n",
    "through the use of this dataset on fuel efficiency. The data consists\n",
    "of over 3900 sedans with manufacturing years from 2013 to 2018, and\n",
    "only considers conventional fuels."
   ]
  },
  {
   "cell_type": "markdown",
   "metadata": {},
   "source": [
    "## 4.2 Scatterplots and Correlation\n",
    "\n",
    "### Main Points\n",
    "\n",
    "1. How to create a scatterplot.\n",
    "\n",
    "> Let's start by looking at the relationship between two quantitative\n",
    "variables: the engine displacement in liters and the overall fuel\n",
    "mileage in MPG. Is a larger engine associated with a higher fuel\n",
    "efficiency, or a lower one? We can investigate this relationship using\n",
    "a scatter plot.\n",
    "> \n",
    "> One way of creating a scatterplot is through matplotlib's `scatter`\n",
    "function. The arguments to this function are similar to what we've\n",
    "used before, but now we specify variables on both the x and y axes.\n",
    "Set the data parameter to `fuel_econ`, x to `displ`, and y to `comb`.\n",
    "I've also added labels using `xlabel` and `ylabel` to help keep track of\n",
    "the variables plotted on each axis."
   ]
  },
  {
   "cell_type": "code",
   "execution_count": null,
   "metadata": {},
   "outputs": [],
   "source": [
    "plt.scatter(data = fuel_econ, x = 'displ', y = 'comb');\n",
    "plt.xlabel('Displacement (l)')\n",
    "plt.ylabel('Combined Fuel Eff. (mpg)');"
   ]
  },
  {
   "cell_type": "markdown",
   "metadata": {},
   "source": [
    "> The plot suggests a generally negative correlation between\n",
    "engine size and fuel efficiency. There's a large amount of\n",
    "variability for the smaller displacements compared to the\n",
    "larger ones.\n",
    ">\n",
    "> An alternative way of creating a scatter plot is through\n",
    "seaborn's `regplot` function. This function combines the\n",
    "creation of a scatterplot with the fitting of a regression line\n",
    "to the data. To use it, just use the function `sb.regplot` instead\n",
    "of `plt.scatter()`."
   ]
  },
  {
   "cell_type": "code",
   "execution_count": null,
   "metadata": {},
   "outputs": [],
   "source": [
    "sb.regplot(data = fuel_econ, x = 'displ', y = 'comb');\n",
    "plt.xlabel('Displacement (l)')\n",
    "plt.ylabel('Combined Fuel Eff. (mpg)');"
   ]
  },
  {
   "cell_type": "markdown",
   "metadata": {},
   "source": [
    "> Looking at the line, you can see how the cars with lower displacements\n",
    "and higher efficiency bring up the left side of the line. You can\n",
    "turn off the regression line if you'd like, by setting `fit_reg = False`."
   ]
  },
  {
   "cell_type": "code",
   "execution_count": null,
   "metadata": {},
   "outputs": [],
   "source": [
    "sb.regplot(data = fuel_econ, x = 'displ', y = 'comb', fit_reg = False);\n",
    "plt.xlabel('Displacement (l)')\n",
    "plt.ylabel('Combined Fuel Eff. (mpg)');"
   ]
  },
  {
   "cell_type": "markdown",
   "metadata": {},
   "source": [
    "> You might have some questions about the data just looking at this\n",
    "plot. The displacements are only listed to an accuracy of .1 liter,\n",
    "and since there's a lot of data to be plotted, there might be a lot\n",
    "of overlap in points such that we don't really see the true relationship\n",
    "between variables in enough detail. We'll get to techniques that address\n",
    "this concern in the upcoming videos."
   ]
  },
  {
   "cell_type": "markdown",
   "metadata": {},
   "source": [
    "## 4.3 Overplotting, Transparency, and Jitter\n",
    "\n",
    "### Main Points\n",
    "\n",
    "1. Use transparency to alleviate overplotting for having too much continuous numeric data.\n",
    "2. Use jitter to improve readability for discrete numeric data.\n",
    "\n",
    "> Let's take a look at the relationship of fuel efficiency against\n",
    "another variable: manufacturing year. With improvements in technology\n",
    "and increasing environmental concerns, have cars running under\n",
    "conventional fuels seen recent increases in fuel efficiency? Let's\n",
    "start by looking at a scatter plot of combined fuel efficiency\n",
    "against year like we tried last time."
   ]
  },
  {
   "cell_type": "code",
   "execution_count": null,
   "metadata": {},
   "outputs": [],
   "source": [
    "sb.regplot(data = fuel_econ, x = 'year', y = 'comb');\n",
    "plt.xlim((2012.5, 2018.5));"
   ]
  },
  {
   "cell_type": "markdown",
   "metadata": {},
   "source": [
    "> The fit regression line suggests a slight upward trend in efficiency,\n",
    "but this is not clear from the data. The only points that we can\n",
    "really make out are those above about 42 mpg. This is a clear place\n",
    "for us to make use of transparency and jitter settings.\n",
    ">\n",
    "> Let's start with jitter. Since we want to jitter the x-values, we add\n",
    "the \"x_jitter\" parameter. The value, 0.3, means that each x-value will\n",
    "be adjusted randomly, up to 0.3 more or 0.3 less. It should be noted\n",
    "that this only works with seaborn's `regplot` function, and not in\n",
    "matplotlib's `scatter`."
   ]
  },
  {
   "cell_type": "code",
   "execution_count": null,
   "metadata": {},
   "outputs": [],
   "source": [
    "sb.regplot(data = fuel_econ, x = 'year', y = 'comb', x_jitter = 0.3);\n",
    "plt.xlim((2012.5, 2018.5));"
   ]
  },
  {
   "cell_type": "markdown",
   "metadata": {},
   "source": [
    "> The points now get arranged in strips with some width, rather\n",
    "than a single line. But this is still not enough to really see the\n",
    "distribution of points below the mid-30s. We should now add some\n",
    "transparency.\n",
    ">\n",
    "> If we were working with matplotlib's `scatter` function, we could\n",
    "just add a parameter \"alpha\" directly to the function call. With\n",
    "`regplot`, we need to instead set the parameter in a dictionary set\n",
    "to the `scatter_kws` parameter.\n",
    ">\n",
    "> Alpha takes a value between 0 and 1 that specifies the opaqueness\n",
    "of points. 0 is fully transparent and 1 is fully opaque. Let's start\n",
    "by trying an alpha of one fifth."
   ]
  },
  {
   "cell_type": "code",
   "execution_count": null,
   "metadata": {},
   "outputs": [],
   "source": [
    "sb.regplot(data = fuel_econ, x = 'year', y = 'comb', x_jitter = 0.3,\n",
    "           scatter_kws = {'alpha' : 1/5});\n",
    "plt.xlim((2012.5, 2018.5));"
   ]
  },
  {
   "cell_type": "markdown",
   "metadata": {},
   "source": [
    "> It's a good start, but the interesting areas in the center\n",
    "are still pretty indistinguishable. What if we try an alpha of\n",
    "one twentieth?"
   ]
  },
  {
   "cell_type": "code",
   "execution_count": null,
   "metadata": {},
   "outputs": [],
   "source": [
    "sb.regplot(data = fuel_econ, x = 'year', y = 'comb', x_jitter = 0.3,\n",
    "           scatter_kws = {'alpha' : 1/20});\n",
    "plt.xlim((2012.5, 2018.5));"
   ]
  },
  {
   "cell_type": "markdown",
   "metadata": {},
   "source": [
    "> We can see the trend in the points a bit better now. Darker areas\n",
    "naturally come about as an outcome of transparent points overlapping,\n",
    "and these areas slightly rise in value across years. Note that, through\n",
    "all of this, the regression line hasn't changed. The jittering and\n",
    "transparency don't affect the underlying values for the purposes of\n",
    "regression line fits.\n",
    ">\n",
    "> If you're still feeling unsatisfied with the result of all this,\n",
    "there's still more alternative ways of plotting the data. For example,\n",
    "since year is discrete, we might treat it as a categorical variable,\n",
    "and use a different plot type you'll see later."
   ]
  },
  {
   "cell_type": "markdown",
   "metadata": {},
   "source": [
    "## 4.4 Heat Maps\n",
    "\n",
    "### Main Points\n",
    "\n",
    "1. Plot numeric data using a heat map.\n",
    "2. Show the impact of bin size on heat map readability."
   ]
  },
  {
   "cell_type": "code",
   "execution_count": null,
   "metadata": {},
   "outputs": [],
   "source": [
    "# previous scatter plot, with jitter and transparency\n",
    "sb.regplot(data = fuel_econ, x = 'displ', y = 'comb', x_jitter = 0.04,\n",
    "           scatter_kws = {'alpha' : 1/10}, fit_reg = False);\n",
    "plt.xlabel('Displacement (l)')\n",
    "plt.ylabel('Combined Fuel Eff. (mpg)');"
   ]
  },
  {
   "cell_type": "markdown",
   "metadata": {},
   "source": [
    "> Earlier, we looked at the relationship between engine size and\n",
    "fuel efficiency using a scatterplot. I've added some jitter and\n",
    "transparency to see where the main bulk of the data lies.\n",
    ">\n",
    "> We can also plot this data as a heat map, or a 2-d histogram.\n",
    "The simplest way of going about this is by using matplotlib's\n",
    "`hist2d` function. I'm also adding a `colorbar` function call\n",
    "so that a legend associating the counts is placed adjacent to the plot."
   ]
  },
  {
   "cell_type": "code",
   "execution_count": null,
   "metadata": {},
   "outputs": [],
   "source": [
    "plt.hist2d(data = fuel_econ, x = 'displ', y = 'comb');\n",
    "plt.xlabel('Displacement (l)')\n",
    "plt.ylabel('Combined Fuel Eff. (mpg)');\n",
    "plt.colorbar();"
   ]
  },
  {
   "cell_type": "markdown",
   "metadata": {},
   "source": [
    "> Similar to the univariate `hist` function, by default each\n",
    "dimension is split into ten bins, and the number of points in\n",
    "each rectangular bin is counted up. Each count is associated\n",
    "with a color; in this default matplotlib color palette, called\n",
    "'viridis', higher counts skew yellow and bright, lower counts\n",
    "darker and purple.\n",
    ">\n",
    "> We can still see the main trend we saw before, but we can\n",
    "certainly do better. First, let's set a minimum bound of counts\n",
    "before a rectangular area can be plotted. By setting `cmin` to\n",
    "a value, such as 0.5, any bin with no counts will return as NaN\n",
    "and not get colored in."
   ]
  },
  {
   "cell_type": "code",
   "execution_count": null,
   "metadata": {},
   "outputs": [],
   "source": [
    "plt.hist2d(data = fuel_econ, x = 'displ', y = 'comb', cmin = 0.5);\n",
    "plt.xlabel('Displacement (l)')\n",
    "plt.ylabel('Combined Fuel Eff. (mpg)');\n",
    "plt.colorbar();"
   ]
  },
  {
   "cell_type": "markdown",
   "metadata": {},
   "source": [
    "> Since white now represents zero, I should choose a reversed\n",
    "color palette where darker colors are associated with higher values.\n",
    "I'll set the \"cmap\" variable to 'viridis_r', with the '\\_r' indicating\n",
    "a reversed colormap."
   ]
  },
  {
   "cell_type": "code",
   "execution_count": null,
   "metadata": {},
   "outputs": [],
   "source": [
    "plt.hist2d(data = fuel_econ, x = 'displ', y = 'comb', cmin = 0.5,\n",
    "           cmap = 'viridis_r');\n",
    "plt.xlabel('Displacement (l)')\n",
    "plt.ylabel('Combined Fuel Eff. (mpg)');\n",
    "plt.colorbar();"
   ]
  },
  {
   "cell_type": "markdown",
   "metadata": {},
   "source": [
    "> There's a ton of built-in color maps compatible\n",
    "with matplotlib that can be found in the documentation. I'll defer\n",
    "a deeper discussion of color in general until later in the course.\n",
    ">\n",
    "> Finally, let's change the bins. We can provide `hist2d`'s \"bins\"\n",
    "parameter with a list of two lists, specifying the bin edges for\n",
    "the x- and y- axes, in that order. After looking at the descriptive\n",
    "statistics for my two variables..."
   ]
  },
  {
   "cell_type": "code",
   "execution_count": null,
   "metadata": {},
   "outputs": [],
   "source": [
    "# just running this cell will throw an error since bins_x and bins_y\n",
    "# haven't been specified yet!\n",
    "plt.hist2d(data = fuel_econ, x = 'displ', y = 'comb', cmin = 0.5,\n",
    "           cmap = 'viridis_r', bins = [bins_x, bins_y]);\n",
    "plt.xlabel('Displacement (l)')\n",
    "plt.ylabel('Combined Fuel Eff. (mpg)');\n",
    "plt.colorbar();"
   ]
  },
  {
   "cell_type": "code",
   "execution_count": null,
   "metadata": {},
   "outputs": [],
   "source": [
    "fuel_econ[['displ','comb']].describe()"
   ]
  },
  {
   "cell_type": "markdown",
   "metadata": {},
   "source": [
    "> I've decided to go with bin sizes of 0.3 and 3. I'll use\n",
    "numpy's `arange` function to assign the bin edges to my `bins_x`\n",
    "and `bins_y` variables, and then generate the revised plot."
   ]
  },
  {
   "cell_type": "code",
   "execution_count": null,
   "metadata": {},
   "outputs": [],
   "source": [
    "bins_x = np.arange(0.6, 7+0.3, 0.3)\n",
    "bins_y = np.arange(12, 58+3, 3)\n",
    "plt.hist2d(data = fuel_econ, x = 'displ', y = 'comb', cmin = 0.5,\n",
    "           cmap = 'viridis_r', bins = [bins_x, bins_y]);\n",
    "plt.xlabel('Displacement (l)')\n",
    "plt.ylabel('Combined Fuel Eff. (mpg)');\n",
    "plt.colorbar();"
   ]
  },
  {
   "cell_type": "markdown",
   "metadata": {},
   "source": [
    "> We can see the plot two areas of high frequency in the middle of\n",
    "the negative trend between fuel efficiency and engine size."
   ]
  },
  {
   "cell_type": "markdown",
   "metadata": {},
   "source": [
    "## 4.6 Violin Plots\n",
    "\n",
    "### Main Points\n",
    "\n",
    "1. How to create violin plots.\n",
    "2. Use seaborn settings to change how plots are generated.\n",
    "\n",
    "> Thus far in the lesson, we've only looked at relationships between\n",
    "quantitative variables. We'll now look at the relationship between our\n",
    "fuel efficiency variable against a qualitative variable, vehicle class.\n",
    "Note here that I've used pandas' `astype` function to convert the\n",
    "`VClass` column from a plain object type into an ordered categorical\n",
    "type, putting the classes in order of size. This way, the sorting of\n",
    "levels is automatic and I won't need to set an \"order\" parameter in my\n",
    "visualization calls."
   ]
  },
  {
   "cell_type": "code",
   "execution_count": null,
   "metadata": {},
   "outputs": [],
   "source": [
    "sedan_classes = ['Minicompact Cars', 'Subcompact Cars', 'Compact Cars', 'Midsize Cars', 'Large Cars']\n",
    "vclasses = pd.api.types.CategoricalDtype(ordered = True, categories = sedan_classes)\n",
    "fuel_econ['VClass'] = fuel_econ['VClass'].astype(vclasses);"
   ]
  },
  {
   "cell_type": "markdown",
   "metadata": {},
   "source": [
    "> The plot type I'll be going over in this video is the violin plot.\n",
    "When we use seaborn's `violinplot` function in the usual way, setting\n",
    "the data, x, and y variables, we get the following plot out:"
   ]
  },
  {
   "cell_type": "code",
   "execution_count": null,
   "metadata": {},
   "outputs": [],
   "source": [
    "sb.violinplot(data = fuel_econ, x = 'VClass', y = 'comb');"
   ]
  },
  {
   "cell_type": "markdown",
   "metadata": {},
   "source": [
    "> I'm going to use `color_palette` to make each level the same color\n",
    "and the `xticks` function to slightly rotate the labels. For now, I'm\n",
    "also going to set the `inner = None` parameter to clean the middle of\n",
    "the plots up. I'll get back to this parameter later."
   ]
  },
  {
   "cell_type": "code",
   "execution_count": null,
   "metadata": {},
   "outputs": [],
   "source": [
    "base_color = sb.color_palette()[0]\n",
    "sb.violinplot(data = fuel_econ, x = 'VClass', y = 'comb',\n",
    "              color = base_color, inner = None);\n",
    "plt.xticks(rotation = 15);"
   ]
  },
  {
   "cell_type": "markdown",
   "metadata": {},
   "source": [
    "> For each of the vehicle classes, an area is plotted that shows\n",
    "the approximate density of efficiency values for each vehicle class.\n",
    "They're like density curves turned on their sides.\n",
    "> \n",
    "> From this plot, we can see that there isn't a monotonic relationship\n",
    "between car size and fuel efficiency. The largest cars seem to have the\n",
    "lowest fuel efficiencies, but the long tail suggests outliers with the\n",
    "highest of efficiencies. Minicompact and subcompact cars have the next-\n",
    "best efficiencies, but the distribution for minicompact cars is more peaked.\n",
    "Finally, compact and midsize cars have the best efficiencies, but the\n",
    "distribution of the midsize cars is broader than the compacts.\n",
    ">\n",
    "> Let's briefly go back to the plot without the `inner = None` parameter setting."
   ]
  },
  {
   "cell_type": "code",
   "execution_count": null,
   "metadata": {},
   "outputs": [],
   "source": [
    "base_color = sb.color_palette()[0]\n",
    "sb.violinplot(data = fuel_econ, x = 'VClass', y = 'comb',\n",
    "              color = base_color);\n",
    "plt.xticks(rotation = 15);"
   ]
  },
  {
   "cell_type": "markdown",
   "metadata": {},
   "source": [
    "> The thing that is plotted in each 'violin' is a miniature box plot.\n",
    "A box plot is another quantitative vs. qualitative plot type that\n",
    "takes a summary approach to displaying the data. More detail about\n",
    "that in the next video."
   ]
  },
  {
   "cell_type": "markdown",
   "metadata": {},
   "source": [
    "## 4.7 Box Plots\n",
    "\n",
    "### Main Points\n",
    "\n",
    "1. How to create box plots."
   ]
  },
  {
   "cell_type": "code",
   "execution_count": null,
   "metadata": {},
   "outputs": [],
   "source": [
    "base_color = sb.color_palette()[0]\n",
    "sb.violinplot(data = fuel_econ, x = 'VClass', y = 'comb',\n",
    "              color = base_color);\n",
    "plt.xticks(rotation = 15);"
   ]
  },
  {
   "cell_type": "markdown",
   "metadata": {},
   "source": [
    "> Last time, we used a violin plot to look at the relationship\n",
    "between vehicle class and fuel efficiency. Now, we'll use box\n",
    "plots to summarize that relationship. Just substitute `violinplot`\n",
    "for `boxplot` and we've got our output."
   ]
  },
  {
   "cell_type": "code",
   "execution_count": null,
   "metadata": {},
   "outputs": [],
   "source": [
    "base_color = sb.color_palette()[0]\n",
    "sb.boxplot(data = fuel_econ, x = 'VClass', y = 'comb',\n",
    "              color = base_color);\n",
    "plt.xticks(rotation = 15);"
   ]
  },
  {
   "cell_type": "markdown",
   "metadata": {},
   "source": [
    "> The bottom of each box indicates the first quartile, the top of\n",
    "each box the third quartile, and the central line the median. Whiskers\n",
    "branch out towards the min and max in each group, with outliers depicted\n",
    "as individual points past a maximum whisker length that depends on each\n",
    "group's box height. The box plot supports the observations we made in\n",
    "the last video regarding the relative order and variability in fuel\n",
    "efficiencies by vehicle class.\n",
    ">\n",
    "> Moving back to the violin plot, now you can understand what was plotted\n",
    "in each 'violin' area."
   ]
  },
  {
   "cell_type": "code",
   "execution_count": null,
   "metadata": {},
   "outputs": [],
   "source": [
    "base_color = sb.color_palette()[0]\n",
    "sb.violinplot(data = fuel_econ, x = 'VClass', y = 'comb',\n",
    "              color = base_color);\n",
    "plt.xticks(rotation = 15);"
   ]
  },
  {
   "cell_type": "markdown",
   "metadata": {},
   "source": [
    "> The thicker black region represents the interquartile range,\n",
    "with the white dot the median. I actually prefer the `inner = 'quartile'`\n",
    "parameter setting, which only plots the quartiles as dashed lines."
   ]
  },
  {
   "cell_type": "code",
   "execution_count": null,
   "metadata": {},
   "outputs": [],
   "source": [
    "base_color = sb.color_palette()[0]\n",
    "sb.violinplot(data = fuel_econ, x = 'VClass', y = 'comb',\n",
    "              color = base_color, inner = 'quartile');\n",
    "plt.xticks(rotation = 15);"
   ]
  },
  {
   "cell_type": "markdown",
   "metadata": {},
   "source": [
    "> The line with larger dashes is the median, with the lines with\n",
    "shorter dashes on either side the quartiles."
   ]
  },
  {
   "cell_type": "markdown",
   "metadata": {},
   "source": [
    "## 4.9 Clustered Bar Charts\n",
    "\n",
    "### Main Points\n",
    "\n",
    "1. How to plot clustered bar charts."
   ]
  },
  {
   "cell_type": "code",
   "execution_count": null,
   "metadata": {},
   "outputs": [],
   "source": [
    "# new column with car transmission type parsed from an existing column\n",
    "fuel_econ['trans_type'] = fuel_econ['trans'].apply(lambda x: x.split()[0])"
   ]
  },
  {
   "cell_type": "markdown",
   "metadata": {},
   "source": [
    "> Let's plot the relationship between two qualitative variables:\n",
    "vehicle class and type of vehicle transmission. To simplify things,\n",
    "I'm only going to look at the main type division, automatic\n",
    "or manual, which has been stored in the `trans_type` column.\n",
    ">\n",
    "> One way of depicting this could be with a heat map like we saw\n",
    "before. There's actually a seaborn function for this categorical\n",
    "type of heat map, the `heatmap` function."
   ]
  },
  {
   "cell_type": "code",
   "execution_count": null,
   "metadata": {},
   "outputs": [],
   "source": [
    "# running this cell will throw an error until ct_counts is created, below.\n",
    "sb.heatmap(ct_counts);"
   ]
  },
  {
   "cell_type": "markdown",
   "metadata": {},
   "source": [
    ">  However, this function takes as an argument a 2-d array or\n",
    "dataframe with the values to be depicted. That means that we need\n",
    "to do some summarization work ourselves before we can create our plot.\n",
    "> \n",
    "> First, I use the `groupby` and `size` functions to get the number\n",
    "of cars in each combination of the two variables' levels as a pandas\n",
    "Series. Then, I use `reset_index` to convert the Series into a DataFrame.\n",
    "Finally, I use pivot to rearrange the data so that I have vehicle class\n",
    "on rows, transmission types on columns, and values in the cells. Now we're\n",
    "ready to plot."
   ]
  },
  {
   "cell_type": "code",
   "execution_count": null,
   "metadata": {},
   "outputs": [],
   "source": [
    "ct_counts = fuel_econ.groupby(['VClass', 'trans_type']).size()\n",
    "ct_counts = ct_counts.reset_index(name = 'count')\n",
    "ct_counts = ct_counts.pivot(index = 'VClass', columns = 'trans_type', values = 'count')"
   ]
  },
  {
   "cell_type": "code",
   "execution_count": null,
   "metadata": {},
   "outputs": [],
   "source": [
    "sb.heatmap(ct_counts);"
   ]
  },
  {
   "cell_type": "markdown",
   "metadata": {},
   "source": [
    "> This is kind of disappointing. It's actually pretty hard to compare\n",
    "the counts and transmission ratios from the colors alone. We can\n",
    "add annotations with counts to the cells, which makes the representation\n",
    "more tabular in nature."
   ]
  },
  {
   "cell_type": "code",
   "execution_count": null,
   "metadata": {},
   "outputs": [],
   "source": [
    "sb.heatmap(ct_counts, annot = True, fmt = 'd');"
   ]
  },
  {
   "cell_type": "markdown",
   "metadata": {},
   "source": [
    "> An alternative way of showing the distribution in counts\n",
    "is through the use of a clustered bar chart. Last lesson, you\n",
    "saw how to use seaborn's `countplot` function to generate a\n",
    "bar chart of one variable."
   ]
  },
  {
   "cell_type": "code",
   "execution_count": null,
   "metadata": {},
   "outputs": [],
   "source": [
    "sb.countplot(data = fuel_econ, x = 'VClass');\n",
    "plt.xticks(rotation = 15);"
   ]
  },
  {
   "cell_type": "markdown",
   "metadata": {},
   "source": [
    "> To divide each of the individual bars into multiple bars for\n",
    "the different transmission types, we just need to add a \"hue\"\n",
    "parameter pointing to the \"trans_type\" variable."
   ]
  },
  {
   "cell_type": "code",
   "execution_count": null,
   "metadata": {},
   "outputs": [],
   "source": [
    "sb.countplot(data = fuel_econ, x = 'VClass', hue = 'trans_type');\n",
    "plt.xticks(rotation = 15);"
   ]
  },
  {
   "cell_type": "markdown",
   "metadata": {},
   "source": [
    "> Minicompact cars have the closest ratio between automatic and\n",
    "manual transmission, while large cars have the most distant ratio."
   ]
  },
  {
   "cell_type": "markdown",
   "metadata": {},
   "source": [
    "## 4.11 Faceting\n",
    "\n",
    "### Main Points\n",
    "\n",
    "1. How to use FacetGrid to set up faceted plots."
   ]
  },
  {
   "cell_type": "code",
   "execution_count": null,
   "metadata": {},
   "outputs": [],
   "source": [
    "base_color = sb.color_palette()[0]\n",
    "sb.violinplot(data = fuel_econ, x = 'VClass', y = 'comb',\n",
    "              color = base_color, inner = 'quartile');\n",
    "plt.xticks(rotation = 15);"
   ]
  },
  {
   "cell_type": "markdown",
   "metadata": {},
   "source": [
    "> Earlier in this lesson, you saw how violin and box plots\n",
    "could be used to depict the relationship between one\n",
    "quantitative and one qualitative variable. Here, we'll use an\n",
    "alternative strategy: faceting histograms of the quantitative\n",
    "variable against the qualitative subsets of the data.\n",
    ">\n",
    "> To perform faceting, we're going to make use of seaborn's\n",
    "`FacetGrid` object class. I'm going to set two parameters for\n",
    "creating the `FacetGrid` object. The `fuel_econ` dataframe is\n",
    "assigned to \"data\" like before, and then we assign the \"VClass\"\n",
    "column to the \"col\" parameter. What this means is that for\n",
    "whatever plot we facet with, there will be one of that plot\n",
    "made for each level of vehicle class."
   ]
  },
  {
   "cell_type": "code",
   "execution_count": null,
   "metadata": {},
   "outputs": [],
   "source": [
    "g = sb.FacetGrid(data = fuel_econ, col = 'VClass');"
   ]
  },
  {
   "cell_type": "markdown",
   "metadata": {},
   "source": [
    "> Now we need to say what kind of plot we want to generate for\n",
    "each of the facets, using the `map` function of FacetGrid objects.\n",
    "The first argument is the plotting function, in this case `hist`,\n",
    "and the immediately following argument the variable to be plotted\n",
    "on the x-axis, in this case \"comb\". It's important that you _don't_\n",
    "set \"x =\" in this, or the faceting by subgroups won't work correctly."
   ]
  },
  {
   "cell_type": "code",
   "execution_count": null,
   "metadata": {},
   "outputs": [],
   "source": [
    "g = sb.FacetGrid(data = fuel_econ, col = 'VClass');\n",
    "g.map(plt.hist, 'comb');"
   ]
  },
  {
   "cell_type": "markdown",
   "metadata": {},
   "source": [
    "> You can see that all of the data is plotted using the default\n",
    "ten bins for `hist`, but the axis limits are the same for each facet.\n",
    "This is useful for comparing the frequency of each group on the faceted\n",
    "variable, and the values within each group for the plotted variable.\n",
    ">\n",
    "> Let's do a little bit of tweaking to the plots. I'll first add a bins\n",
    "parameter to the map function, so that the bins across each facet are\n",
    "the same. Next, I'll add the \"col_wrap\" parameter to limit the number of\n",
    "facets that can be placed side by side. This isn't vital for this\n",
    "particular dataset, but can be useful if you have a lot more levels in\n",
    "your faceted variable."
   ]
  },
  {
   "cell_type": "code",
   "execution_count": null,
   "metadata": {},
   "outputs": [],
   "source": [
    "bins = np.arange(12, 58+2, 2)\n",
    "g = sb.FacetGrid(data = fuel_econ, col = 'VClass', col_wrap = 3);\n",
    "g.map(plt.hist, 'comb', bins = bins);"
   ]
  },
  {
   "cell_type": "markdown",
   "metadata": {},
   "source": [
    "> Lastly, I want to demonstrate what happens when you don't fix\n",
    "the same axis limits across facets. By setting `sharey = False`,\n",
    "each facet can have its own y-axis limits. It's a little easier this\n",
    "way to see the change in distributions across levels, but you also\n",
    "lose out on seeing the overall frequency of each group."
   ]
  },
  {
   "cell_type": "code",
   "execution_count": null,
   "metadata": {},
   "outputs": [],
   "source": [
    "bins = np.arange(12, 58+2, 2)\n",
    "g = sb.FacetGrid(data = fuel_econ, col = 'VClass', col_wrap = 3, sharey = False);\n",
    "g.map(plt.hist, 'comb', bins = bins);"
   ]
  },
  {
   "cell_type": "markdown",
   "metadata": {},
   "source": [
    "## 4.12 Adaptations of Univariate Plots\n",
    "\n",
    "### Main Points\n",
    "\n",
    "1. Create a bar chart with the mean / standard deviation of a second variable instead of count.\n",
    "2. Create a histogram with mean of a second variable instead of count."
   ]
  },
  {
   "cell_type": "code",
   "execution_count": null,
   "metadata": {},
   "outputs": [],
   "source": [
    "base_color = sb.color_palette()[0]\n",
    "sb.boxplot(data = fuel_econ, x = 'VClass', y = 'comb',\n",
    "           color = base_color);\n",
    "plt.xticks(rotation = 15);"
   ]
  },
  {
   "cell_type": "markdown",
   "metadata": {},
   "source": [
    "> One additional option we can have for plotting one\n",
    "quantitative variable against one qualitative variable\n",
    "is through the adaptation of a bar chart to show not counts\n",
    "on the vertical axis, but the mean of a second variable.\n",
    ">\n",
    "> To do this, we need to make use of a different function than\n",
    "the `countplot` function we had before. Instead, seaborn's\n",
    "`barplot` function will be what we want. I'll add a label to the\n",
    "y-axis so that it's clear that we're plotting the means on the\n",
    "y-axis."
   ]
  },
  {
   "cell_type": "code",
   "execution_count": null,
   "metadata": {},
   "outputs": [],
   "source": [
    "base_color = sb.color_palette()[0]\n",
    "sb.barplot(data = fuel_econ, x = 'VClass', y = 'comb',\n",
    "              color = base_color);\n",
    "plt.xticks(rotation = 15);\n",
    "plt.ylabel('Avg. combined efficiency (mpg)');"
   ]
  },
  {
   "cell_type": "markdown",
   "metadata": {},
   "source": [
    "> Since we have a bar plot, the bottom limit of the y-axis has\n",
    "been set at 0. The black lines on each bar indicate uncertainty\n",
    "about the mean as a confidence interval. Since we have a lot of\n",
    "data available, the uncertainty whiskers are quite small. If we\n",
    "want to leave these whiskers out of the plot, we can do so by\n",
    "setting `errwidth = 0`."
   ]
  },
  {
   "cell_type": "code",
   "execution_count": null,
   "metadata": {},
   "outputs": [],
   "source": [
    "base_color = sb.color_palette()[0]\n",
    "sb.barplot(data = fuel_econ, x = 'VClass', y = 'comb',\n",
    "              color = base_color, errwidth = 0);\n",
    "plt.xticks(rotation = 15);\n",
    "plt.ylabel('Avg. combined efficiency (mpg)');"
   ]
  },
  {
   "cell_type": "markdown",
   "metadata": {},
   "source": [
    "> Alternatively, we could change the bars to represent the standard\n",
    "deviation of data points by setting `ci = 'sd'`."
   ]
  },
  {
   "cell_type": "code",
   "execution_count": null,
   "metadata": {},
   "outputs": [],
   "source": [
    "base_color = sb.color_palette()[0]\n",
    "sb.barplot(data = fuel_econ, x = 'VClass', y = 'comb',\n",
    "              color = base_color, ci = 'sd');\n",
    "plt.xticks(rotation = 15);\n",
    "plt.ylabel('Avg. combined efficiency (mpg)');"
   ]
  },
  {
   "cell_type": "markdown",
   "metadata": {},
   "source": [
    "> If having the 0 lower bound isn't of interest, then you can\n",
    "choose the `pointplot` function instead of the `barplot` function.\n",
    "We don't need the color setting in this plot type for everything to\n",
    "show up as the same color. Note that by default the points are\n",
    "connected by a line. This isn't a problem in this case since vehicle\n",
    "class is ordered from smallest to largest. But if we were plotting a\n",
    "nominal variable instead, we could turn off the line by setting\n",
    "\"linestyles\" to an empty string."
   ]
  },
  {
   "cell_type": "code",
   "execution_count": null,
   "metadata": {},
   "outputs": [],
   "source": [
    "sb.pointplot(data = fuel_econ, x = 'VClass', y = 'comb', ci = 'sd', linestyles = \"\");\n",
    "plt.xticks(rotation = 15);\n",
    "plt.ylabel('Avg. combined efficiency (mpg)');"
   ]
  },
  {
   "cell_type": "markdown",
   "metadata": {},
   "source": [
    "## 4.13 Line Plots\n",
    "\n",
    "### Main Points\n",
    "\n",
    "1. Aggregating numeric data to prepare for line plot generation.\n",
    "2. Creating a line plot with error bars."
   ]
  },
  {
   "cell_type": "code",
   "execution_count": null,
   "metadata": {},
   "outputs": [],
   "source": [
    "sb.pointplot(data = fuel_econ, x = 'VClass', y = 'comb');\n",
    "plt.xticks(rotation = 15);\n",
    "plt.ylabel('Avg. combined efficiency (mpg)');"
   ]
  },
  {
   "cell_type": "markdown",
   "metadata": {},
   "source": [
    "> The `pointplot` function you saw previously was good for summarizing\n",
    "a quantitative variable against a qualitative variable. We need a\n",
    "different function for summarizing a quantitative variable against a\n",
    "second quantitative variable, such as with fuel efficiency by engine\n",
    "displacement.\n",
    "> \n",
    "> In this case, we'll make use of matplotlib's `errorbar` function, which\n",
    "plots a line between points with an optional setting for adding error bars.\n",
    "We can set the data, x, and y arguments just like we've done before."
   ]
  },
  {
   "cell_type": "code",
   "execution_count": null,
   "metadata": {},
   "outputs": [],
   "source": [
    "plt.errorbar(data = fuel_econ, x = 'displ', y = 'comb');\n",
    "plt.xlabel('Displacement (l)')\n",
    "plt.ylabel('Combined Fuel Eff. (mpg)');"
   ]
  },
  {
   "cell_type": "markdown",
   "metadata": {},
   "source": [
    "> Unfortunately, the plot we get out is uninformative. All that matplotlib\n",
    "is doing is connecting each pair of x- and y- values in order as they appear\n",
    "in the dataframe, without any sorting. A scatterplot is basically this plot,\n",
    "but without any connecting lines and distinct points at each value pair.\n",
    ">\n",
    "> We will be fine if all of our data is sorted by the x-variable and we only\n",
    "have one y-value for each x-value. So let's do some work to get a DataFrame\n",
    "with those qualities. First of all, I'm going to set bin edges and centers\n",
    "for summarizing the data on the displacement value. I need the centers so\n",
    "that the points are plotted in their accurate positions; I leave out the last\n",
    "value of the bin edges since that won't correspond to an actual bin center."
   ]
  },
  {
   "cell_type": "code",
   "execution_count": null,
   "metadata": {},
   "outputs": [],
   "source": [
    "bins_e = np.arange(0.6, 7+0.2, 0.2)\n",
    "bins_c = bins_e[:-1] + 0.1"
   ]
  },
  {
   "cell_type": "markdown",
   "metadata": {},
   "source": [
    "> Next, I use pandas' `cut` function to figure out which bin\n",
    "each data point should be used in. And then I use `groupby` to\n",
    "group by those displacement bins, and take the mean of points\n",
    "that fall each each of them."
   ]
  },
  {
   "cell_type": "code",
   "execution_count": null,
   "metadata": {},
   "outputs": [],
   "source": [
    "bins_e = np.arange(0.6, 7+0.2, 0.2)\n",
    "bins_c = bins_e[:-1] + 0.1\n",
    "\n",
    "displ_binned = pd.cut(fuel_econ['displ'], bins_e, include_lowest = True)\n",
    "comb_mean = fuel_econ['comb'].groupby(displ_binned).mean()"
   ]
  },
  {
   "cell_type": "markdown",
   "metadata": {},
   "source": [
    "> Finally, we're ready to plot again. Since we're no longer using the\n",
    "original dataframe, we need to change our arguments, the bin centers\n",
    "for the x-positions, and the pandas Series with the fuel efficiency\n",
    "means for the y-positions."
   ]
  },
  {
   "cell_type": "code",
   "execution_count": null,
   "metadata": {},
   "outputs": [],
   "source": [
    "plt.errorbar(x = bins_c, y = comb_mean);\n",
    "plt.xlabel('Displacement (l)')\n",
    "plt.ylabel('Mean Combined Fuel Eff. (mpg)');"
   ]
  },
  {
   "cell_type": "markdown",
   "metadata": {},
   "source": [
    "> The line plot looks like this, showing a general decrease\n",
    "in fuel efficiency with engine size. There's a gap in the line\n",
    "where there was no data available. With the `errorbar` function,\n",
    "we can also compute the standard deviation of the fuel efficiencies\n",
    "in each bin and plot them through the \"yerr\" parameter."
   ]
  },
  {
   "cell_type": "code",
   "execution_count": null,
   "metadata": {},
   "outputs": [],
   "source": [
    "bins_e = np.arange(0.6, 7+0.2, 0.2)\n",
    "bins_c = bins_e[:-1] + 0.1\n",
    "\n",
    "displ_binned = pd.cut(fuel_econ['displ'], bins_e, include_lowest = True)\n",
    "comb_mean = fuel_econ['comb'].groupby(displ_binned).mean()\n",
    "comb_std = fuel_econ['comb'].groupby(displ_binned).std()"
   ]
  },
  {
   "cell_type": "code",
   "execution_count": null,
   "metadata": {},
   "outputs": [],
   "source": [
    "plt.errorbar(x = bins_c, y = comb_mean, yerr = comb_std);\n",
    "plt.xlabel('Displacement (l)')\n",
    "plt.ylabel('Mean Combined Fuel Eff. (mpg)');"
   ]
  },
  {
   "cell_type": "markdown",
   "metadata": {},
   "source": [
    "> This plot shows that while the cars with smaller engine sizes\n",
    "do have generally higher fuel efficiencies, there's also a lot\n",
    "more variability in those efficiencies."
   ]
  },
  {
   "cell_type": "code",
   "execution_count": null,
   "metadata": {},
   "outputs": [],
   "source": []
  }
 ],
 "metadata": {
  "kernelspec": {
   "display_name": "Python 3",
   "language": "python",
   "name": "python3"
  },
  "language_info": {
   "codemirror_mode": {
    "name": "ipython",
    "version": 3
   },
   "file_extension": ".py",
   "mimetype": "text/x-python",
   "name": "python",
   "nbconvert_exporter": "python",
   "pygments_lexer": "ipython3",
   "version": "3.6.4"
  }
 },
 "nbformat": 4,
 "nbformat_minor": 2
}
