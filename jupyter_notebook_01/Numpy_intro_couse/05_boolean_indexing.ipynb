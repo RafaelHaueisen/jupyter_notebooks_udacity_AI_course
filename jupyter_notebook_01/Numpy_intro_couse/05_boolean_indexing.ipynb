{
 "cells": [
  {
   "cell_type": "markdown",
   "id": "92f695cc-4cf5-49aa-b94a-06e63ea4ff5a",
   "metadata": {},
   "source": [
    "## 1. Boolean indexing"
   ]
  },
  {
   "cell_type": "code",
   "execution_count": 2,
   "id": "1abc47b8-94ad-42e5-8275-74363ecfca03",
   "metadata": {},
   "outputs": [
    {
     "name": "stdout",
     "output_type": "stream",
     "text": [
      "\n",
      "Original X = \n",
      " [[ 0  1  2  3  4]\n",
      " [ 5  6  7  8  9]\n",
      " [10 11 12 13 14]\n",
      " [15 16 17 18 19]\n",
      " [20 21 22 23 24]]\n",
      "\n",
      "The elements in X that are greater than 10: [11 12 13 14 15 16 17 18 19 20 21 22 23 24]\n",
      "The elements in X that less than or equal to 7: [0 1 2 3 4 5 6 7]\n",
      "The elements in X that are between 10 and 17: [11 12 13 14 15 16]\n",
      "\n",
      "X = \n",
      " [[ 0  1  2  3  4]\n",
      " [ 5  6  7  8  9]\n",
      " [10 -1 -1 -1 -1]\n",
      " [-1 -1 17 18 19]\n",
      " [20 21 22 23 24]]\n",
      "\n"
     ]
    }
   ],
   "source": [
    "import numpy as np\n",
    "# We create a 5 x 5 ndarray that contains integers from 0 to 24\n",
    "X = np.arange(25).reshape(5, 5)\n",
    "\n",
    "# We print X\n",
    "print()\n",
    "print('Original X = \\n', X)\n",
    "print()\n",
    "\n",
    "# We use Boolean indexing to select elements in X:\n",
    "print('The elements in X that are greater than 10:', X[X > 10])\n",
    "print('The elements in X that less than or equal to 7:', X[X <= 7])\n",
    "print('The elements in X that are between 10 and 17:', X[(X > 10) & (X < 17)])\n",
    "\n",
    "# We use Boolean indexing to assign the elements that are between 10 and 17 the value of -1\n",
    "X[(X > 10) & (X < 17)] = -1\n",
    "\n",
    "# We print X\n",
    "print()\n",
    "print('X = \\n', X)\n",
    "print()"
   ]
  },
  {
   "cell_type": "markdown",
   "id": "2e4ccb9c-eb47-4b50-9409-d21114c983eb",
   "metadata": {},
   "source": [
    "## 2. Set operations (union, difference, intersection)"
   ]
  },
  {
   "cell_type": "code",
   "execution_count": 3,
   "id": "686f7687-75c7-49f5-a372-a1703b6c01b2",
   "metadata": {},
   "outputs": [
    {
     "name": "stdout",
     "output_type": "stream",
     "text": [
      "\n",
      "x =  [1 2 3 4 5]\n",
      "\n",
      "y =  [6 7 2 8 4]\n",
      "\n",
      "The elements that are both in x and y: [2 4]\n",
      "The elements that are in x that are not in y: [1 3 5]\n",
      "All the elements of x and y: [1 2 3 4 5 6 7 8]\n"
     ]
    }
   ],
   "source": [
    "# We create a rank 1 ndarray\n",
    "x = np.array([1,2,3,4,5])\n",
    "\n",
    "# We create a rank 1 ndarray\n",
    "y = np.array([6,7,2,8,4])\n",
    "\n",
    "# We print x\n",
    "print()\n",
    "print('x = ', x)\n",
    "\n",
    "# We print y\n",
    "print()\n",
    "print('y = ', y)\n",
    "\n",
    "# We use set operations to compare x and y:\n",
    "print()\n",
    "print('The elements that are both in x and y:', np.intersect1d(x,y))\n",
    "print('The elements that are in x that are not in y:', np.setdiff1d(x,y))\n",
    "print('All the elements of x and y:',np.union1d(x,y))"
   ]
  },
  {
   "cell_type": "markdown",
   "id": "0caacf70-a37b-4da2-b613-16f3eb9b224c",
   "metadata": {},
   "source": [
    "## 3. Sort arrays using sort() function\n",
    "`ndarray.sort(axis=-1, kind=None, order=None)`"
   ]
  },
  {
   "cell_type": "code",
   "execution_count": 4,
   "id": "2fea3788-a02f-4eac-a3ac-46a4ef0ceab0",
   "metadata": {},
   "outputs": [
    {
     "name": "stdout",
     "output_type": "stream",
     "text": [
      "\n",
      "Original x =  [ 1  3  8 10  7  2  8  6  3  4]\n",
      "\n",
      "Sorted x (out of place): [ 1  2  3  3  4  6  7  8  8 10]\n",
      "\n",
      "x after sorting: [ 1  3  8 10  7  2  8  6  3  4]\n"
     ]
    }
   ],
   "source": [
    "# We create an unsorted rank 1 ndarray\n",
    "x = np.random.randint(1,11,size=(10,))\n",
    "\n",
    "# We print x\n",
    "print()\n",
    "print('Original x = ', x)\n",
    "\n",
    "# We sort x and print the sorted array using sort as a function.\n",
    "print()\n",
    "print('Sorted x (out of place):', np.sort(x))\n",
    "\n",
    "# When we sort out of place the original array remains intact. To see this we print x again\n",
    "print()\n",
    "print('x after sorting:', x)"
   ]
  },
  {
   "cell_type": "markdown",
   "id": "150062cc-5fff-49a7-b8a9-a2e7ff3c5458",
   "metadata": {},
   "source": [
    "Notice that np.sort() sorts the array but, if the ndarray being sorted has repeated values, np.sort() leaves those values in the sorted array. However, if desired, we can use the unique() function. Let's see how we can sort the unique elements of x above:\n",
    "\n"
   ]
  },
  {
   "cell_type": "code",
   "execution_count": 5,
   "id": "e69e9dfa-1cea-4720-8220-78676caef930",
   "metadata": {},
   "outputs": [
    {
     "name": "stdout",
     "output_type": "stream",
     "text": [
      "[ 1  2  3  4  6  7  8 10]\n"
     ]
    }
   ],
   "source": [
    "# Returns the sorted unique elements of an array\n",
    "print(np.unique(x))"
   ]
  },
  {
   "cell_type": "markdown",
   "id": "740b621d-1dd5-4d1f-a1a1-2cba18f151ee",
   "metadata": {},
   "source": [
    "## 4. Sort rank-1 arrays using sort() method"
   ]
  },
  {
   "cell_type": "code",
   "execution_count": 6,
   "id": "c544b050-eae1-465b-b3d3-c0fcc01aa945",
   "metadata": {},
   "outputs": [
    {
     "name": "stdout",
     "output_type": "stream",
     "text": [
      "\n",
      "Original x =  [ 6 10  3 10  9  6 10  9  9  7]\n",
      "\n",
      "x after sorting: [ 3  6  6  7  9  9  9 10 10 10]\n"
     ]
    }
   ],
   "source": [
    "# We create an unsorted rank 1 ndarray\n",
    "x = np.random.randint(1,11,size=(10,))\n",
    "\n",
    "# We print x\n",
    "print()\n",
    "print('Original x = ', x)\n",
    "\n",
    "# We sort x and print the sorted array using sort as a method.\n",
    "x.sort()\n",
    "\n",
    "# When we sort in place the original array is changed to the sorted array. To see this we print x again\n",
    "print()\n",
    "print('x after sorting:', x)"
   ]
  },
  {
   "cell_type": "markdown",
   "id": "11ce9123-359d-4df0-a0ce-4748e637df03",
   "metadata": {},
   "source": [
    "## 5. Sort rank-2 arrays by specific axis.\n",
    "`numpy.sort(array, axis=-1, kind=None, order=None)`\n",
    "- If nothing is specified, the default value is `axis = -1`, which sorts along the last axis. In the case of a given 2-D ndarray, the last axis value is 1.\n",
    "- If explicitly `axis = None` is specified, the array is flattened before sorting. It will return a 1-D array.\n",
    "- If `axis = 0` is specified for a given 2-D array - For one column at a time, the function will sort all rows, without disturbing other elements. In the final output, you will see that each column has been sorted individually.\n",
    "- The output of `axis = 1` for a given 2-D array is vice-versa for axis = 0. In the final output, you will see that each row has been sorted individually."
   ]
  },
  {
   "cell_type": "code",
   "execution_count": 7,
   "id": "51cba718-fec9-4a3d-9e59-04ebadbd6829",
   "metadata": {},
   "outputs": [
    {
     "name": "stdout",
     "output_type": "stream",
     "text": [
      "\n",
      "Original X = \n",
      " [[ 9  1 10  1  5]\n",
      " [ 7 10 10  2  7]\n",
      " [ 7  3  5  5  6]\n",
      " [ 9 10  7  2  6]\n",
      " [ 7 10  2  5  8]]\n",
      "\n",
      "\n",
      "X with sorted columns :\n",
      " [[ 7  1  2  1  5]\n",
      " [ 7  3  5  2  6]\n",
      " [ 7 10  7  2  6]\n",
      " [ 9 10 10  5  7]\n",
      " [ 9 10 10  5  8]]\n",
      "\n",
      "X with sorted rows :\n",
      " [[ 1  1  5  9 10]\n",
      " [ 2  7  7 10 10]\n",
      " [ 3  5  5  6  7]\n",
      " [ 2  6  7  9 10]\n",
      " [ 2  5  7  8 10]]\n"
     ]
    }
   ],
   "source": [
    "# We create an unsorted rank 2 ndarray\n",
    "X = np.random.randint(1,11,size=(5,5))\n",
    "\n",
    "# We print X\n",
    "print()\n",
    "print('Original X = \\n', X)\n",
    "print()\n",
    "\n",
    "# We sort the columns of X and print the sorted array\n",
    "print()\n",
    "print('X with sorted columns :\\n', np.sort(X, axis = 0))\n",
    "\n",
    "# We sort the rows of X and print the sorted array\n",
    "print()\n",
    "print('X with sorted rows :\\n', np.sort(X, axis = 1))"
   ]
  },
  {
   "cell_type": "code",
   "execution_count": null,
   "id": "73d09ef3-f9e9-412c-99dd-1dbe587f2ff9",
   "metadata": {},
   "outputs": [],
   "source": []
  }
 ],
 "metadata": {
  "kernelspec": {
   "display_name": "Python 3 (ipykernel)",
   "language": "python",
   "name": "python3"
  },
  "language_info": {
   "codemirror_mode": {
    "name": "ipython",
    "version": 3
   },
   "file_extension": ".py",
   "mimetype": "text/x-python",
   "name": "python",
   "nbconvert_exporter": "python",
   "pygments_lexer": "ipython3",
   "version": "3.13.1"
  }
 },
 "nbformat": 4,
 "nbformat_minor": 5
}
