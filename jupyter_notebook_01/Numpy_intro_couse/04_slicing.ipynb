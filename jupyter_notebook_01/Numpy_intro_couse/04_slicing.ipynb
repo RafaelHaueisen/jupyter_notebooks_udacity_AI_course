{
 "cells": [
  {
   "cell_type": "markdown",
   "id": "95c804e5-1fd3-4b64-b12d-4f3ee1dd6d36",
   "metadata": {},
   "source": [
    "# Slicing\n",
    "1. ndarray[start:end]\n",
    "2. ndarray[start:]\n",
    "3. ndarray[:end]"
   ]
  },
  {
   "cell_type": "markdown",
   "id": "72308166-f357-4cd4-b9c2-5473366525fd",
   "metadata": {},
   "source": [
    "## 1. Slicing in a 2-D ndarray"
   ]
  },
  {
   "cell_type": "code",
   "execution_count": 4,
   "id": "b587870d-e1e2-4e60-bf79-8ef181bba892",
   "metadata": {},
   "outputs": [
    {
     "name": "stdout",
     "output_type": "stream",
     "text": [
      "\n",
      "X = \n",
      " [[ 0  1  2  3  4]\n",
      " [ 5  6  7  8  9]\n",
      " [10 11 12 13 14]\n",
      " [15 16 17 18 19]]\n",
      "\n",
      "Z = \n",
      " [[ 7  8  9]\n",
      " [12 13 14]\n",
      " [17 18 19]]\n",
      "\n",
      "W = \n",
      " [[ 7  8  9]\n",
      " [12 13 14]\n",
      " [17 18 19]]\n",
      "\n",
      "Y = \n",
      " [[ 2  3  4]\n",
      " [ 7  8  9]\n",
      " [12 13 14]]\n",
      "\n",
      "v =  [10 11 12 13 14]\n",
      "\n",
      "q =  [ 2  7 12 17]\n",
      "\n",
      "R = \n",
      " [[ 2]\n",
      " [ 7]\n",
      " [12]\n",
      " [17]]\n"
     ]
    }
   ],
   "source": [
    "import numpy as np\n",
    "# We create a 4 x 5 ndarray that contains integers from 0 to 19\n",
    "X = np.arange(20).reshape(4, 5)\n",
    "\n",
    "# We print X\n",
    "print()\n",
    "print('X = \\n', X)\n",
    "print()\n",
    "\n",
    "# We select all the elements that are in the 2nd through 4th rows and in the 3rd to 5th columns\n",
    "# (The 1st being index 0)\n",
    "Z = X[1:4,2:5]\n",
    "\n",
    "# We print Z\n",
    "print('Z = \\n', Z)\n",
    "\n",
    "# We can select the same elements as above using method 2\n",
    "W = X[1:,2:5]\n",
    "\n",
    "# We print W\n",
    "print()\n",
    "print('W = \\n', W)\n",
    "\n",
    "# We select all the elements that are in the 1st through 3rd rows and in the 3rd to 4th columns\n",
    "Y = X[:3,2:5]\n",
    "\n",
    "# We print Y\n",
    "print()\n",
    "print('Y = \\n', Y)\n",
    "\n",
    "# We select all the elements in the 3rd row\n",
    "v = X[2,:]\n",
    "\n",
    "# We print v\n",
    "print()\n",
    "print('v = ', v)\n",
    "\n",
    "# We select all the elements in the 3rd column\n",
    "q = X[:,2]\n",
    "\n",
    "# We print q\n",
    "print()\n",
    "print('q = ', q)\n",
    "\n",
    "# We select all the elements in the 3rd column but return a rank 2 ndarray\n",
    "R = X[:,2:3]\n",
    "\n",
    "# We print R\n",
    "print()\n",
    "print('R = \\n', R)"
   ]
  },
  {
   "cell_type": "markdown",
   "id": "e1755a2b-55aa-4d78-a921-d4046d82e26b",
   "metadata": {},
   "source": [
    "## 2. Slicing and editing elements in a 2-D ndarray"
   ]
  },
  {
   "cell_type": "code",
   "execution_count": 5,
   "id": "b9b61a08-c491-4190-b56d-8a7e164988e7",
   "metadata": {},
   "outputs": [
    {
     "name": "stdout",
     "output_type": "stream",
     "text": [
      "\n",
      "X = \n",
      " [[ 0  1  2  3  4]\n",
      " [ 5  6  7  8  9]\n",
      " [10 11 12 13 14]\n",
      " [15 16 17 18 19]]\n",
      "\n",
      "\n",
      "Z = \n",
      " [[ 7  8  9]\n",
      " [12 13 14]\n",
      " [17 18 19]]\n",
      "\n",
      "\n",
      "X = \n",
      " [[  0   1   2   3   4]\n",
      " [  5   6   7   8   9]\n",
      " [ 10  11  12  13  14]\n",
      " [ 15  16  17  18 555]]\n",
      "\n"
     ]
    }
   ],
   "source": [
    "# We create a 4 x 5 ndarray that contains integers from 0 to 19\n",
    "X = np.arange(20).reshape(4, 5)\n",
    "\n",
    "# We print X\n",
    "print()\n",
    "print('X = \\n', X)\n",
    "print()\n",
    "\n",
    "# We select all the elements that are in the 2nd through 4th rows and in the 3rd to 4th columns\n",
    "Z = X[1:4,2:5]\n",
    "\n",
    "# We print Z\n",
    "print()\n",
    "print('Z = \\n', Z)\n",
    "print()\n",
    "\n",
    "# We change the last element in Z to 555\n",
    "Z[2,2] = 555\n",
    "\n",
    "# We print X\n",
    "print()\n",
    "print('X = \\n', X)\n",
    "print()"
   ]
  },
  {
   "cell_type": "markdown",
   "id": "d2e12e39-5cce-4917-9bf7-a570a58b0aad",
   "metadata": {},
   "source": [
    "## 3. Demonstrate the copy() function\n",
    "`ndarray.copy(order='C')`"
   ]
  },
  {
   "cell_type": "code",
   "execution_count": 8,
   "id": "0290676f-c78b-4ac6-b62f-7d8941f5401a",
   "metadata": {},
   "outputs": [
    {
     "name": "stdout",
     "output_type": "stream",
     "text": [
      "\n",
      "X = \n",
      " [[ 0  1  2  3  4]\n",
      " [ 5  6  7  8  9]\n",
      " [10 11 12 13 14]\n",
      " [15 16 17 18 19]]\n",
      "\n",
      "\n",
      "X = \n",
      " [[ 0  1  2  3  4]\n",
      " [ 5  6  7  8  9]\n",
      " [10 11 12 13 14]\n",
      " [15 16 17 18 19]]\n",
      "\n",
      "Z = \n",
      " [[  7   8   9]\n",
      " [ 12  13  14]\n",
      " [ 17  18 555]]\n",
      "\n",
      "W = \n",
      " [[  7   8   9]\n",
      " [ 12  13  14]\n",
      " [ 17  18 444]]\n"
     ]
    }
   ],
   "source": [
    "# We create a 4 x 5 ndarray that contains integers from 0 to 19\n",
    "X = np.arange(20).reshape(4, 5)\n",
    "\n",
    "# We print X\n",
    "print()\n",
    "print('X = \\n', X)\n",
    "print()\n",
    "\n",
    "# create a copy of the slice using the np.copy() function\n",
    "Z = np.copy(X[1:4,2:5])\n",
    "\n",
    "#  create a copy of the slice using the copy as a method\n",
    "W = X[1:4,2:5].copy()\n",
    "\n",
    "# We change the last element in Z to 555\n",
    "Z[2,2] = 555\n",
    "\n",
    "# We change the last element in W to 444\n",
    "W[2,2] = 444\n",
    "\n",
    "# We print X\n",
    "print()\n",
    "print('X = \\n', X)\n",
    "\n",
    "# We print Z\n",
    "print()\n",
    "print('Z = \\n', Z)\n",
    "\n",
    "# We print W\n",
    "print()\n",
    "print('W = \\n', W)"
   ]
  },
  {
   "cell_type": "markdown",
   "id": "b342d01a-2320-43ba-8974-a6d56e357850",
   "metadata": {},
   "source": [
    "## 4 a. Use an array as indices to either make slices, select, or change elements"
   ]
  },
  {
   "cell_type": "code",
   "execution_count": 9,
   "id": "fe871d9f-1a7e-4347-a6cf-cff4adbc6eb9",
   "metadata": {},
   "outputs": [
    {
     "name": "stdout",
     "output_type": "stream",
     "text": [
      "\n",
      "X = \n",
      " [[ 0  1  2  3  4]\n",
      " [ 5  6  7  8  9]\n",
      " [10 11 12 13 14]\n",
      " [15 16 17 18 19]]\n",
      "\n",
      "indices =  [1 3]\n",
      "\n",
      "\n",
      "Y = \n",
      " [[ 5  6  7  8  9]\n",
      " [15 16 17 18 19]]\n",
      "\n",
      "Z = \n",
      " [[ 1  3]\n",
      " [ 6  8]\n",
      " [11 13]\n",
      " [16 18]]\n"
     ]
    }
   ],
   "source": [
    "# We create a 4 x 5 ndarray that contains integers from 0 to 19\n",
    "X = np.arange(20).reshape(4, 5)\n",
    "\n",
    "# We create a rank 1 ndarray that will serve as indices to select elements from X\n",
    "indices = np.array([1,3])\n",
    "\n",
    "# We print X\n",
    "print()\n",
    "print('X = \\n', X)\n",
    "print()\n",
    "\n",
    "# We print indices\n",
    "print('indices = ', indices)\n",
    "print()\n",
    "\n",
    "# We use the indices ndarray to select the 2nd and 4th row of X\n",
    "Y = X[indices,:]\n",
    "\n",
    "# We use the indices ndarray to select the 2nd and 4th column of X\n",
    "Z = X[:, indices]\n",
    "\n",
    "# We print Y\n",
    "print()\n",
    "print('Y = \\n', Y)\n",
    "\n",
    "# We print Z\n",
    "print()\n",
    "print('Z = \\n', Z)"
   ]
  },
  {
   "cell_type": "markdown",
   "id": "ce2875a9-769b-443a-a19a-8a194e7ee88e",
   "metadata": {},
   "source": [
    "## 4 b. Use an array as indices to extract specific rows from a rank 2 ndarray."
   ]
  },
  {
   "cell_type": "code",
   "execution_count": 18,
   "id": "b3f8379b-40d7-4179-96f4-e94e29f1256d",
   "metadata": {},
   "outputs": [
    {
     "name": "stdout",
     "output_type": "stream",
     "text": [
      "Shape of X is:  (50, 5)\n",
      "[[ 5  2  9  2 10]\n",
      " [14 12 10 11 18]\n",
      " [19 11  2  6 18]\n",
      " [15 10  6  7 19]\n",
      " [11 12  8  4  4]\n",
      " [ 8  6 16  5  8]\n",
      " [11  6 19 10 17]\n",
      " [11  2 11  5  5]\n",
      " [10  2 14  2  6]\n",
      " [ 6 16  3  3 19]\n",
      " [12  9  2 13 14]\n",
      " [18 13 12  1  6]\n",
      " [ 9 12  5 17 11]\n",
      " [ 9 17  7 12 16]\n",
      " [12 15 11  5 12]\n",
      " [ 8 11  8 19  6]\n",
      " [ 4  3 19 16 12]\n",
      " [ 3  4  6 15  6]\n",
      " [ 8  6  8 11  2]\n",
      " [14  4  2  4 17]\n",
      " [ 3  1  3  4 11]\n",
      " [10 19  3 17 11]\n",
      " [ 8 18  1 13  4]\n",
      " [ 7  5  8 15  7]\n",
      " [12  2  4 16 15]\n",
      " [ 2 16  5  9  6]\n",
      " [18 10  2  7 14]\n",
      " [ 2  9  6  7 12]\n",
      " [10  2 17 14 18]\n",
      " [10  1 13 19  3]\n",
      " [ 2 11 15 13  2]\n",
      " [ 5  2  2 14 18]\n",
      " [ 5 11 19 16 19]\n",
      " [ 8 19  6 19 17]\n",
      " [10 12  5 14  3]\n",
      " [ 2  3  6 19  5]\n",
      " [16 16 17  2  3]\n",
      " [ 3 15 19 19  6]\n",
      " [16 19 13 11 11]\n",
      " [11  5  1  7  9]\n",
      " [13 17  1  5 19]\n",
      " [ 3  6 11  4  5]\n",
      " [19  5  2 17 17]\n",
      " [ 5 11 17 14 16]\n",
      " [13 11  6 16 18]\n",
      " [14 11  4 13 10]\n",
      " [12 19  1 14  9]\n",
      " [ 4 15 14  9 18]\n",
      " [18  8 14  7  2]\n",
      " [ 1 17 12 17 19]] \n",
      "\n",
      "Random 10 indices are:  [ 1 28 35 26 10 42 23 42 38 10] \n",
      "\n",
      "[[14 12 10 11 18]\n",
      " [10  2 17 14 18]\n",
      " [ 2  3  6 19  5]\n",
      " [18 10  2  7 14]\n",
      " [12  9  2 13 14]\n",
      " [19  5  2 17 17]\n",
      " [ 7  5  8 15  7]\n",
      " [19  5  2 17 17]\n",
      " [16 19 13 11 11]\n",
      " [12  9  2 13 14]] \n",
      "\n",
      "[[12  9  2 13 14]\n",
      " [19  5  2 17 17]\n",
      " [ 7  5  8 15  7]\n",
      " [19  5  2 17 17]] \n",
      "\n"
     ]
    }
   ],
   "source": [
    "X = np.random.randint(1,20, size=(50,5))\n",
    "print(\"Shape of X is: \", X.shape)\n",
    "print(X, '\\n')\n",
    "\n",
    "# Create a rank 1 ndarray that contains a randomly chosen 10 values between `0` to `len(X)` (50)\n",
    "# The row_indices would represent the indices of rows of X\n",
    "row_indices = np.random.randint(0,50, size=10)\n",
    "print(\"Random 10 indices are: \", row_indices, '\\n')\n",
    "\n",
    "# To Do 1 - Print those rows of X whose indices are represented by entire row_indices ndarray\n",
    "# Hint - Use the row_indices ndarray to select specified rows of X\n",
    "X_subset = X[row_indices, :]\n",
    "print(X_subset, '\\n')\n",
    "\n",
    "# To Do 2 - Print those rows of X whose indices are present in row_indices[4:8]\n",
    "X_subset = X[row_indices[4:8], :]\n",
    "print(X_subset, '\\n')"
   ]
  },
  {
   "cell_type": "markdown",
   "id": "ef2701e7-d29d-4680-82a9-4cfcba3f1c15",
   "metadata": {},
   "source": [
    "## Demonstrate the diag() function\n",
    "`numpy.diag(array, k=0)`"
   ]
  },
  {
   "cell_type": "code",
   "execution_count": 19,
   "id": "1879f623-dc42-4321-9118-07ee0325a8d9",
   "metadata": {},
   "outputs": [
    {
     "name": "stdout",
     "output_type": "stream",
     "text": [
      "\n",
      "X = \n",
      " [[ 0  1  2  3  4]\n",
      " [ 5  6  7  8  9]\n",
      " [10 11 12 13 14]\n",
      " [15 16 17 18 19]\n",
      " [20 21 22 23 24]]\n",
      "\n",
      "z = [ 0  6 12 18 24]\n",
      "\n",
      "y = [ 1  7 13 19]\n",
      "\n",
      "w =  [ 5 11 17 23]\n"
     ]
    }
   ],
   "source": [
    "# We create a 5 x 5 ndarray that contains integers from 0 to 24\n",
    "X = np.arange(25).reshape(5, 5)\n",
    "\n",
    "# We print X\n",
    "print()\n",
    "print('X = \\n', X)\n",
    "print()\n",
    "\n",
    "# We print the elements in the main diagonal of X\n",
    "print('z =', np.diag(X))\n",
    "print()\n",
    "\n",
    "# We print the elements above the main diagonal of X\n",
    "print('y =', np.diag(X, k=1))\n",
    "print()\n",
    "\n",
    "# We print the elements below the main diagonal of X\n",
    "print('w = ', np.diag(X, k=-1))"
   ]
  },
  {
   "cell_type": "markdown",
   "id": "77c2df2d-1340-45d3-8568-95a41260032b",
   "metadata": {},
   "source": [
    "## 6. Demonstrate the unique() function\n",
    "`numpy.unique(array, return_index=False, return_inverse=False, return_counts=False, axis=None)`"
   ]
  },
  {
   "cell_type": "code",
   "execution_count": 20,
   "id": "b03968b5-e0c9-4922-9d12-597f1c888e8d",
   "metadata": {},
   "outputs": [
    {
     "name": "stdout",
     "output_type": "stream",
     "text": [
      "\n",
      "X = \n",
      " [[1 2 3]\n",
      " [5 2 8]\n",
      " [1 2 3]]\n",
      "\n",
      "The unique elements in X are: [1 2 3 5 8]\n"
     ]
    }
   ],
   "source": [
    "# Create 3 x 3 ndarray with repeated values\n",
    "X = np.array([[1,2,3],[5,2,8],[1,2,3]])\n",
    "\n",
    "# We print X\n",
    "print()\n",
    "print('X = \\n', X)\n",
    "print()\n",
    "\n",
    "# We print the unique elements of X \n",
    "print('The unique elements in X are:',np.unique(X))"
   ]
  },
  {
   "cell_type": "code",
   "execution_count": null,
   "id": "3bc54f8e-28af-4999-818c-a39d9f4b9c07",
   "metadata": {},
   "outputs": [],
   "source": []
  }
 ],
 "metadata": {
  "kernelspec": {
   "display_name": "Python 3 (ipykernel)",
   "language": "python",
   "name": "python3"
  },
  "language_info": {
   "codemirror_mode": {
    "name": "ipython",
    "version": 3
   },
   "file_extension": ".py",
   "mimetype": "text/x-python",
   "name": "python",
   "nbconvert_exporter": "python",
   "pygments_lexer": "ipython3",
   "version": "3.13.1"
  }
 },
 "nbformat": 4,
 "nbformat_minor": 5
}
