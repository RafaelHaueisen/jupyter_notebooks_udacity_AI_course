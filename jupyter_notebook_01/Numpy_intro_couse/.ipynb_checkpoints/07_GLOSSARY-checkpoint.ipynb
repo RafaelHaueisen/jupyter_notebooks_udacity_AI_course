{
 "cells": [
  {
   "cell_type": "markdown",
   "id": "091050ea-e011-44e0-bb64-e7ce20a1a657",
   "metadata": {},
   "source": [
    "# Glossary\n",
    "Below is the summary of all the functions and methods that you learned in this lesson:"
   ]
  },
  {
   "cell_type": "markdown",
   "id": "18450d10-9763-4d59-b06a-536260d59e98",
   "metadata": {},
   "source": [
    "## Category: General Purpose\n",
    "\n",
    "| Function/Method                        | Description                                                                 |\n",
    "|----------------------------------------|-----------------------------------------------------------------------------|\n",
    "| numpy.ndarray.dtype                    | Return the data-type of the elements of the array. Remember, arrays are homogeneous. |\n",
    "| numpy.ndarray.ndim                     | Return the number of array-dimensions (rank), e.g., it will return 2 for a 4x3 array. |\n",
    "| numpy.ndarray.shape                    | Return a tuple representing the array dimensions, e.g., it will return (rows, columns) for a rank 2 array. |\n",
    "| numpy.ndarray.size                     | Return the number of elements present in the array.                        |\n",
    "| numpy.save                             | Save an array to .npy (numpy) format.                                      |\n",
    "| numpy.load                             | Load array from the .npy files.                                            |\n",
    "| numpy.random.random                    | Return random floats values from the interval [0.0, 1.0), in a specified shape. |\n",
    "| numpy.random.randint                   | Return random integers from the half-open interval [a, b), in a specified shape. |\n",
    "| numpy.random.normal                    | Return random samples from a Gaussian (normal) distribution.              |\n",
    "| numpy.random.permutation               | Return a randomly permuted sequence from the given list.                  |\n",
    "| numpy.reshape / numpy.ndarray.reshape  | Returns an array containing the same elements with a new shape, without affecting the original array. |"
   ]
  },
  {
   "cell_type": "markdown",
   "id": "ba2da528-0426-4fe4-ac4a-2bfb0a7a74e4",
   "metadata": {},
   "source": [
    "## Category: Array Creation\n",
    "\n",
    "| Function/Method           | Description                                                                 |\n",
    "|----------------------------|-----------------------------------------------------------------------------|\n",
    "| numpy.ones                | Return a new array of given shape and type, filled with 1s.                 |\n",
    "| numpy.zeros               | Return a new array of given shape and type, filled with 0s.                 |\n",
    "| numpy.full                | Return a new array of given shape and type, filled with a specific value.   |\n",
    "| numpy.eye                 | Return a 2-D array with 1s on the diagonal and 0s elsewhere.                |\n",
    "| numpy.diag                | Extract the diagonal elements.                                              |\n",
    "| numpy.unique              | Return the sorted unique elements of an array.                             |\n",
    "| numpy.array               | Create an n-dimensional array.                                              |\n",
    "| numpy.arange              | Return evenly spaced values within a given half-open interval [a, b).       |\n",
    "| numpy.linspace            | Return evenly spaced numbers over a specified interval [a, b].             |\n",
    "| numpy.ndarray.copy        | Returns a copy of the array.                                                |"
   ]
  },
  {
   "cell_type": "markdown",
   "id": "1c6ed099-601f-46c7-91f3-6782e906bf70",
   "metadata": {},
   "source": [
    "## Category: Operating with Elements and Indices\n",
    "\n",
    "| Function/Method         | Description                                                                                       |\n",
    "|--------------------------|---------------------------------------------------------------------------------------------------|\n",
    "| numpy.insert            | Insert values along the given axis before the specified indices.                                  |\n",
    "| numpy.delete            | Return a new array, after deleting sub-arrays along a specified axis.                             |\n",
    "| numpy.append            | Append values at the end of the specified array.                                                 |\n",
    "| numpy.hstack            | Return a stacked array formed by stacking the given arrays in sequence horizontally (column-wise).|\n",
    "| numpy.vstack            | Return a stacked array formed by stacking the given arrays, will be at least 2-D, in sequence vertically (row-wise). |\n",
    "| numpy.sort              | Return a sorted copy of an array.                                                                |\n",
    "| numpy.ndarray.sort      | Sort an array in-place.                                                                          |"
   ]
  },
  {
   "cell_type": "markdown",
   "id": "f12f6481-e661-4a82-9f04-c210028176c4",
   "metadata": {},
   "source": [
    "## Category: Set Operations\n",
    "\n",
    "| Function/Method     | Description                                                                             |\n",
    "|----------------------|-----------------------------------------------------------------------------------------|\n",
    "| numpy.intersect1d   | Find the intersection of two arrays.                                                    |\n",
    "| numpy.setdiff1d     | Find the set difference of two arrays.                                                  |\n",
    "| numpy.union1d       | Return the unique, sorted array of values that are in either of the two input arrays.   |"
   ]
  },
  {
   "cell_type": "markdown",
   "id": "db563a3f-2c66-42e1-82c0-dc4f26ca20e2",
   "metadata": {},
   "source": [
    "## Category: Arithmetic and Statistical Operations\n",
    "\n",
    "| Function/Method       | Description                                                                          |\n",
    "|------------------------|--------------------------------------------------------------------------------------|\n",
    "| numpy.add             | Element-wise add given arrays.                                                      |\n",
    "| numpy.subtract        | Subtract arguments of given arrays, element-wise.                                   |\n",
    "| numpy.multiply        | Multiply arguments of given arrays, element-wise.                                   |\n",
    "| numpy.divide          | Returns a true division of the inputs, element-wise.                                |\n",
    "| numpy.exp             | Calculate the exponential of all elements in the input array.                       |\n",
    "| numpy.power           | First array elements raised to powers from second array, element-wise.              |\n",
    "| numpy.sqrt            | Return the non-negative square-root of an array, element-wise.                      |\n",
    "| numpy.ndarray.min     | Return the minimum along the specified axis.                                        |\n",
    "| numpy.ndarray.max     | Return the maximum along a given axis.                                              |\n",
    "| numpy.mean / numpy.ndarray.mean | Compute the arithmetic mean along the specified axis.                           |\n",
    "| numpy.median          | Compute the median along the specified axis.                                        |"
   ]
  },
  {
   "cell_type": "code",
   "execution_count": null,
   "id": "b9bbae49-4199-4ce2-bdcc-9646d3d34421",
   "metadata": {},
   "outputs": [],
   "source": []
  }
 ],
 "metadata": {
  "kernelspec": {
   "display_name": "Python 3 (ipykernel)",
   "language": "python",
   "name": "python3"
  },
  "language_info": {
   "codemirror_mode": {
    "name": "ipython",
    "version": 3
   },
   "file_extension": ".py",
   "mimetype": "text/x-python",
   "name": "python",
   "nbconvert_exporter": "python",
   "pygments_lexer": "ipython3",
   "version": "3.13.1"
  }
 },
 "nbformat": 4,
 "nbformat_minor": 5
}
