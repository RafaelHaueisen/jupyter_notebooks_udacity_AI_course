{
 "cells": [
  {
   "cell_type": "markdown",
   "id": "a92d68a5-2e6a-46c6-936c-52902ea80335",
   "metadata": {},
   "source": [
    "# Category: Initialization and Utility\n",
    "\n",
    "| Function/Method                                    | Description                                                                                                                                               |\n",
    "|----------------------------------------------------|-----------------------------------------------------------------------------------------------------------------------------------------------------------|\n",
    "| `pandas.read_csv(relative_path_to_file)`          | Reads a comma-separated values (csv) file present at `relative_path_to_file` and loads it as a DataFrame.                                                  |\n",
    "| `pandas.DataFrame(data)`                          | Returns a 2-D heterogeneous tabular data. Note: There are other optional arguments as well that you can use to create a DataFrame.                        |\n",
    "| `pandas.Series(data, index)`                      | Returns 1-D ndarray with axis labels.                                                                                                                     |\n",
    "| `pandas.Series.shape` / `pandas.DataFrame.shape`  | Returns a tuple representing the dimensions.                                                                                                              |\n",
    "| `pandas.Series.ndim` / `pandas.DataFrame.ndim`    | Returns the number of the dimensions (rank). It will return 1 in case of a Series.                                                                        |\n",
    "| `pandas.Series.size` / `pandas.DataFrame.size`    | Returns the number of elements.                                                                                                                           |\n",
    "| `pandas.Series.values`                            | Returns the data available in the Series.                                                                                                                 |\n",
    "| `pandas.Series.index`                             | Returns the indexes available in the Series.                                                                                                              |\n",
    "| `pandas.DataFrame.isnull()`                       | Returns a same-sized object having `True` for NaN elements and `False` otherwise.                                                                         |\n",
    "| `pandas.DataFrame.count(axis)`                    | Returns the count of non-NaN values along the given axis. If `axis=0`, it will count down the DataFrame, meaning column-wise count of non-NaN values.      |\n",
    "| `pandas.DataFrame.head([n])`                      | Returns the first `n` rows from the DataFrame. By default, `n=5`.                                                                                         |\n",
    "| `pandas.DataFrame.tail([n])`                      | Returns the last `n` rows from the DataFrame. By default, `n=5`. Supports negative indexing as well.                                                      |\n",
    "| `pandas.DataFrame.describe()`                     | Generates descriptive statistics, such as count, mean, std deviation, min, and max.                                                                       |\n",
    "| `pandas.DataFrame.min()`                          | Returns the minimum of the values along the given axis.                                                                                                   |\n",
    "| `pandas.DataFrame.max()`                          | Returns the maximum of the values along the given axis.                                                                                                   |\n",
    "| `pandas.DataFrame.mean()`                         | Returns the mean of the values along the given axis.                                                                                                      |\n",
    "| `pandas.DataFrame.corr()`                         | Computes pairwise correlation of columns, excluding NA/null values.                                                                                       |\n",
    "| `pandas.DataFrame.rolling(window)`                | Provides rolling window calculations, such as `pandas.DataFrame.rolling(15).mean()` for rolling mean over a window size of 15.                             |\n",
    "| `pandas.DataFrame.loc[label]`                     | Accesses a group of rows and columns by label(s).                                                                                                         |\n",
    "| `pandas.DataFrame.groupby(mapping_function)`      | Groups the DataFrame using a given mapper function or by a Series of columns.                                                                             |"
   ]
  },
  {
   "cell_type": "markdown",
   "id": "6b2180b1-f31e-4e5f-b0f0-a70cb1305d92",
   "metadata": {},
   "source": [
    "# Category: Manipulation\n",
    "\n",
    "| Function/Method                                   | Description                                                                                                               |\n",
    "|---------------------------------------------------|---------------------------------------------------------------------------------------------------------------------------|\n",
    "| `pandas.Series.drop(index)`                      | Drops the element positioned at the given index(es).                                                                      |\n",
    "| `pandas.DataFrame.drop(labels)`                  | Drops specified labels (entire columns or rows) from the DataFrame.                                                       |\n",
    "| `pandas.DataFrame.pop(item)`                     | Returns the item and drops it from the DataFrame. If not found, raises a `KeyError`.                                       |\n",
    "| `pandas.DataFrame.insert(location, column, values)` | Inserts a column having given values into the DataFrame at the specified location.                                         |\n",
    "| `pandas.DataFrame.rename(dictionary-like)`       | Renames label(s) (columns or row-indexes) as mentioned in the dictionary-like structure.                                   |\n",
    "| `pandas.DataFrame.set_index(keys)`               | Sets the DataFrame's row indexes using existing column values.                                                             |\n",
    "| `pandas.DataFrame.dropna(axis)`                  | Removes rows (if `axis=0`) or columns (if `axis=1`) that contain missing values.                                           |\n",
    "| `pandas.DataFrame.fillna(value, method, axis)`   | Replaces `NaN` values with the specified value along the given axis, using the given method (‘backfill’, ‘bfill’, ‘pad’, etc.). |\n",
    "| `pandas.DataFrame.interpolate(method, axis)`     | Replaces the `NaN` values with the estimated value calculated using the given method along the given axis.                 |"
   ]
  },
  {
   "cell_type": "code",
   "execution_count": null,
   "id": "a15b3213-2288-4a3f-bd51-1d053106669c",
   "metadata": {},
   "outputs": [],
   "source": []
  }
 ],
 "metadata": {
  "kernelspec": {
   "display_name": "Python 3 (ipykernel)",
   "language": "python",
   "name": "python3"
  },
  "language_info": {
   "codemirror_mode": {
    "name": "ipython",
    "version": 3
   },
   "file_extension": ".py",
   "mimetype": "text/x-python",
   "name": "python",
   "nbconvert_exporter": "python",
   "pygments_lexer": "ipython3",
   "version": "3.13.1"
  }
 },
 "nbformat": 4,
 "nbformat_minor": 5
}
