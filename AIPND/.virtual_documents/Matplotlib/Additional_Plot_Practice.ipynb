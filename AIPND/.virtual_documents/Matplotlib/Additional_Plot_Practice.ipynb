# prerequisite package imports
import numpy as np
import pandas as pd
import matplotlib.pyplot as plt
import seaborn as sb

%matplotlib inline

from solutions_biv import additionalplot_solution_1, additionalplot_solution_2





fuel_econ = pd.read_csv('./data/fuel_econ.csv')
fuel_econ.head()





# YOUR CODE HERE


# run this cell to check your work against ours
additionalplot_solution_1()





# YOUR CODE HERE


# run this cell to check your work against ours
additionalplot_solution_2()
