


# import NumPy into Python
import numpy as np

# Create a 1000 x 20 ndarray with random integers in the half-open interval [0, 5001).
X = np.random.randint(0, 5001, size=(1000, 20))

# print the shape of X
print('Shape of X: ', X.shape)







# Average of the values in each column of X
ave_cols =

# Standard Deviation of the values in each column of X
std_cols =





# Print the shape of ave_cols


# Print the shape of std_cols






# Mean normalize X
X_norm =





# Print the average of all the values of X_norm


# Print the average of the minimum value in each column of X_norm


# Print the average of the maximum value in each column of X_norm






# We create a random permutation of integers 0 to 4
np.random.permutation(5)





# Create a rank 1 ndarray that contains a random permutation of the row indices of `X_norm`
row_indices =





# Make any necessary calculations.
# You can save your calculations into variables to use later.


# Create a Training Set
X_train =

# Create a Cross Validation Set
X_crossVal =

# Create a Test Set
X_test =





# Print the shape of X_train


# Print the shape of X_crossVal


# Print the shape of X_test




